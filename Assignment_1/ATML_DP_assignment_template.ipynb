{
  "cells": [
    {
      "cell_type": "markdown",
      "metadata": {
        "id": "0gptEv_UkLPf"
      },
      "source": [
        "# Code template for hand-in on reconstruction attacks.\n",
        "\n",
        "Advanced Topics in Machine Learning, U. Copenhagen, fall 2024\n",
        "\n",
        "Created by Rasmus Pagh with minor edits by Thomas Christensen\n",
        "\n",
        "Queries on a hidden dataset x from {-1,+1}^100 can be made via the query method below\n",
        "which calls a web API that allows dot product queries with vectors in {-1,+1}^100.\n",
        "To protect data, Laplace noise is added to responses. Using the techniques you have\n",
        "seen in the lecture it is possible to partially reconstruct the dataset using 200 queries.\n",
        "To make sure that you get a unique challenge, choose any unique string as your challenge\n",
        "identifier. The web API will keep track of the number of queries made for each identifier."
      ]
    },
    {
      "cell_type": "markdown",
      "metadata": {
        "id": "dyLpL0gdnquz"
      },
      "source": [
        "# Support function for querying the web API"
      ]
    },
    {
      "cell_type": "code",
      "execution_count": 1,
      "metadata": {
        "id": "L1Mb8xGZkTPO"
      },
      "outputs": [],
      "source": [
        "import numpy as np\n",
        "import requests as rq\n",
        "\n",
        "# Retrieve answer to challenge for a given query\n",
        "def query(challenge_id, query_vector, submit=False):\n",
        "    # Only alphanumeric challenge_id and vextor entries in {-1,+1} are allowed:\n",
        "    assert(challenge_id.isalnum())\n",
        "    assert(np.max(np.minimum(np.abs(query_vector-1),np.abs(query_vector+1)))==0)\n",
        "\n",
        "    # if query array is 1d, make it 2d\n",
        "    if query_vector.ndim == 1:\n",
        "        query_vector = query_vector.reshape(1,-1)\n",
        "\n",
        "    payload = { 'challengeid': challenge_id, 'submit': submit,\n",
        "                'query': str(query_vector.tolist()) }\n",
        "    response = rq.post(\"https://baconbreaker.pythonanywhere.com/query\", data = payload).json()\n",
        "    if submit == False:\n",
        "        return np.array(eval(response['result']))\n",
        "    else:\n",
        "        return response['result']"
      ]
    },
    {
      "cell_type": "markdown",
      "metadata": {
        "id": "mgh9MtPmnyEl"
      },
      "source": [
        "# Making random queries to the API"
      ]
    },
    {
      "cell_type": "code",
      "execution_count": 28,
      "metadata": {
        "colab": {
          "base_uri": "https://localhost:8080/"
        },
        "id": "rACAhWmE9zkq",
        "outputId": "56510295-5822-4d72-a4ff-0fa5f90de0eb"
      },
      "outputs": [
        {
          "name": "stdout",
          "output_type": "stream",
          "text": [
            "[  1. -13.  -7. -39. -17.   7.  17.  36. -18.  29. -50. -32.  -9.  -9.\n",
            " -20.  35.   6.  11. -27.  16.   4.  -7. -17. -23.  19. -11. -20.  19.\n",
            " -35.  14.  27.  10. -14.   6.  15. -10.  24.  -2.   4.  47.   2. -11.\n",
            "  36. -16.  -2.  -5.  -4.   6.   2. -10. -26.  35.   1.  -3.  -1.   1.\n",
            "  -6.   8. -14.  -7.  11. -10.  52. -16.  -8.  -1. -18.  18.   3.  10.\n",
            "  11. -23. -10. -12.   5.  21.  14.  -2.  21.   1.  -5.  -3.  48.  -8.\n",
            "   5.   4.  -3.   9. -35.  42.  -1.   1.  -3. -16. -12.  26.  32.   9.\n",
            "   5. -25. -48.  -9. -10. -26.  44.  31.  -5.  -7. -10. -18.  11.   9.\n",
            "   9.  -8. -18. -10. -11.  38.  -4.  36. -31.  -7.  18.   9.   2.   4.\n",
            " -13.  53. -11.  -6. -20. -20. -38. -23.   9. -14.  -4.  -6.  -4.   2.\n",
            "  12. -20.  22.   2. -22.  -1.  -2.   7.  -6.  -2.  -5.  19. -16. -33.\n",
            "  18.  11.  -6.   2.   5. -25.   0. -17.  -8.   7.  22.  17. -25.  37.\n",
            "  -2.  -8.   0.  10.   8.   8.  -4.  22.  -1. -12. -23. -10. -22.  -7.\n",
            "  21. -16.  28.  12. -15.  27.  16.  11.  12.   8. -11.  10.   0.  -8.\n",
            " -17.  -8.  22. -19.]\n"
          ]
        }
      ],
      "source": [
        "challenge_id = 'ThisWasNotTaken123454321' # identifier for hidden dataset\n",
        "n = 100 # number of entries in hidden dataset\n",
        "num_queries = 2*n # number of queries to be asked\n",
        "\n",
        "queries = np.random.choice([-1,+1], size=(num_queries,n)) # Set of random queries\n",
        "query_results = query(challenge_id, queries)\n",
        "\n",
        "print(query_results)"
      ]
    },
    {
      "cell_type": "markdown",
      "metadata": {
        "id": "uiUoCqxtknZj"
      },
      "source": [
        "# Baseline reconstruction attack: Guess equals the best query\n",
        "\n",
        "Copy the notebook and replace with your attack. The first submission for a given challenge_id is stored on the server and on the leaderboard: http://baconbreaker.pythonanywhere.com/leaderboard/?n=100"
      ]
    },
    {
      "cell_type": "markdown",
      "metadata": {
        "id": "wBzhULS8lfJf"
      },
      "source": [
        "**Tip**: to solve a linear program you can use the following import:\n",
        "\n",
        "```\n",
        "from scipy.optimize import linprog\n",
        "```\n",
        "\n"
      ]
    },
    {
      "cell_type": "code",
      "execution_count": 25,
      "metadata": {
        "colab": {
          "base_uri": "https://localhost:8080/"
        },
        "id": "KNEVYeK5klgu",
        "outputId": "28db8286-ea7e-45a1-cefd-b70c3f77ac34"
      },
      "outputs": [
        {
          "name": "stdout",
          "output_type": "stream",
          "text": [
            "\n",
            "Reconstruction attack achieves fraction 0.48 correct values\n"
          ]
        }
      ],
      "source": [
        "best_query_number = np.argmax(query_results)\n",
        "best_query = queries[best_query_number]\n",
        "best_query_result = query(challenge_id, best_query, submit=True)\n",
        "print(f\"\\nReconstruction attack achieves fraction {(1 + best_query_result / n) / 2} correct values\")"
      ]
    },
    {
      "cell_type": "code",
      "execution_count": 124,
      "metadata": {},
      "outputs": [],
      "source": []
    },
    {
      "cell_type": "code",
      "execution_count": 129,
      "metadata": {},
      "outputs": [
        {
          "name": "stdout",
          "output_type": "stream",
          "text": [
            "Reconstructed x: [ 1.  1. -1. -1. -1.  1.  1.  1.  1. -1. -1. -1.  1.  1.  1.  1. -1. -1.\n",
            " -1.  1.  1. -1. -1.  1.  1. -1. -1. -1.  1. -1. -1.  1.  1. -1.  1. -1.\n",
            " -1.  1.  1.  1.  1.  1. -1. -1. -1. -1.  1.  1.  1. -1.  1. -1.  1. -1.\n",
            "  1.  1.  1. -1.  1. -1. -1.  1. -1.  1.  1.  1.  1. -1.  1.  1. -1. -1.\n",
            "  1. -1.  1. -1. -1. -1.  1.  1.  1.  1. -1. -1. -1. -1. -1. -1. -1. -1.\n",
            " -1. -1.  1.  1. -1.  1.  1.  1.  1.  1.]\n",
            "Reconstruction attack achieves fraction 0.8400000000000001 correct values\n"
          ]
        }
      ],
      "source": [
        "    import math\n",
        "    from scipy.optimize import linprog\n",
        "    # Number of people in dataset\n",
        "    n = 100\n",
        "    t = 2 * n  # number of queries\n",
        "\n",
        "    queries = np.random.choice([-1, +1], size=(t, n))\n",
        "    noisy_results = query(challenge_id, queries)\n",
        "\n",
        "    # Objective function coefficients: minimize sum of epsilons\n",
        "    c = np.concatenate([np.zeros(n), np.ones(t)])\n",
        "\n",
        "    # Inequality constraints\n",
        "    A_ub = np.zeros((2 * t, n + t))  # 2 constraints per query\n",
        "    b_ub = np.zeros(2 * t)\n",
        "    for i in range(t):\n",
        "        A_ub[2 * i, :n] = queries[i]       # ⟨hat_x, q_i⟩ term\n",
        "        A_ub[2 * i, n + i] = -1            # -epsilon_i\n",
        "        b_ub[2 * i] = noisy_results[i]     # upper bound\n",
        "\n",
        "        A_ub[2 * i + 1, :n] = -queries[i]  # -⟨hat_x, q_i⟩ term\n",
        "        A_ub[2 * i + 1, n + i] = -1        # -epsilon_i\n",
        "        b_ub[2 * i + 1] = -noisy_results[i]# lower bound\n",
        "\n",
        "    # Bounds for the decision variables\n",
        "    # hat_x is bounded between -1 and 1, epsilons are >= 0\n",
        "    bounds = [(-1, 1)] * n + [(0, None)] * t\n",
        "\n",
        "    # Solve the linear program\n",
        "    result = linprog(c, A_ub=A_ub, b_ub=b_ub, bounds=bounds, method='highs')\n",
        "\n",
        "    # Extract the reconstructed x\n",
        "    reconstructed_x = result.x[:n]\n",
        "    print(\"Reconstructed x:\", np.sign(reconstructed_x))\n",
        "\n",
        "    # Test the reconstruction attack\n",
        "    best_query_result = query(challenge_id, np.sign(reconstructed_x), submit=True)\n",
        "    accuracy = (1 + best_query_result / n) / 2\n",
        "    print(f\"Reconstruction attack achieves fraction {accuracy} correct values\")"
      ]
    },
    {
      "cell_type": "markdown",
      "metadata": {},
      "source": []
    }
  ],
  "metadata": {
    "colab": {
      "provenance": []
    },
    "kernelspec": {
      "display_name": "Python 3",
      "name": "python3"
    },
    "language_info": {
      "codemirror_mode": {
        "name": "ipython",
        "version": 3
      },
      "file_extension": ".py",
      "mimetype": "text/x-python",
      "name": "python",
      "nbconvert_exporter": "python",
      "pygments_lexer": "ipython3",
      "version": "3.11.9"
    }
  },
  "nbformat": 4,
  "nbformat_minor": 0
}
